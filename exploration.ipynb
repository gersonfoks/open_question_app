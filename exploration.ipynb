{
 "cells": [
  {
   "cell_type": "code",
   "execution_count": 1,
   "metadata": {
    "collapsed": true
   },
   "outputs": [],
   "source": [
    "import json\n"
   ]
  },
  {
   "cell_type": "code",
   "execution_count": 2,
   "outputs": [],
   "source": [
    "with open('questions_with_answers.json') as f:\n",
    "    data = json.load(f)"
   ],
   "metadata": {
    "collapsed": false
   }
  },
  {
   "cell_type": "code",
   "execution_count": 3,
   "outputs": [],
   "source": [
    "## Load the sentence transformer models\n",
    "questions = data[\"questions\"]\n",
    "correct_answers = [q['correct_answer'] for q in questions]\n",
    "wrong_answers = [q['wrong_answer'] for q in questions]\n",
    "paraphrased_answers = [q['paraphrased_answer'] for q in questions]\n",
    "\n"
   ],
   "metadata": {
    "collapsed": false
   }
  },
  {
   "cell_type": "code",
   "execution_count": 4,
   "outputs": [],
   "source": [
    "from sentence_transformers import SentenceTransformer\n",
    "from transformers import AutoTokenizer, AutoModel\n",
    "import torch\n",
    "\n",
    "\n",
    "#Mean Pooling - Take attention mask into account for correct averaging\n",
    "\n",
    "def mean_pooling(model_output, attention_mask):\n",
    "    token_embeddings = model_output[0] #First element of model_output contains all token embeddings\n",
    "    input_mask_expanded = attention_mask.unsqueeze(-1).expand(token_embeddings.size()).float()\n",
    "    return torch.sum(token_embeddings * input_mask_expanded, 1) / torch.clamp(input_mask_expanded.sum(1), min=1e-9)\n",
    "\n",
    "\n",
    "# Load model from HuggingFace Hub\n",
    "\n",
    "models = [\n",
    "    SentenceTransformer('sentence-transformers/paraphrase-MiniLM-L6-v2'),\n",
    "    SentenceTransformer('sentence-transformers/all-MiniLM-L6-v2'),\n",
    "    SentenceTransformer('sentence-transformers/all-distilroberta-v1'),\n",
    "\n",
    "]\n"
   ],
   "metadata": {
    "collapsed": false
   }
  },
  {
   "cell_type": "code",
   "execution_count": 5,
   "outputs": [],
   "source": [
    "from torch.nn import CosineSimilarity\n",
    "\n",
    "# Function that scores the answers\n",
    "cosine_sim = CosineSimilarity()\n",
    "def score_answers(example_answers, your_answers, model):\n",
    "    embedded_example_answers = model.encode(example_answers, convert_to_tensor=True)\n",
    "    embedded_your_answers = model.encode(your_answers, convert_to_tensor=True)\n",
    "\n",
    "    # Compute cosine-similarities\n",
    "    cosine_scores = cosine_sim(embedded_your_answers, embedded_example_answers)\n",
    "    return cosine_scores\n",
    "\n",
    "all_parapharased_scores = [score_answers(correct_answers, paraphrased_answers, model) for model in models]\n",
    "all_wrong_scores = [score_answers(correct_answers, wrong_answers, model) for model in models]\n",
    "\n",
    "\n",
    "\n"
   ],
   "metadata": {
    "collapsed": false
   }
  },
  {
   "cell_type": "code",
   "execution_count": 6,
   "outputs": [
    {
     "data": {
      "text/plain": "[tensor([0.7701, 0.8141, 0.9436, 0.8376, 0.9051], device='cuda:0'),\n tensor([0.7798, 0.8654, 0.9675, 0.8664, 0.9494], device='cuda:0'),\n tensor([0.6332, 0.8804, 0.9663, 0.8820, 0.9761], device='cuda:0')]"
     },
     "execution_count": 6,
     "metadata": {},
     "output_type": "execute_result"
    }
   ],
   "source": [
    "all_parapharased_scores"
   ],
   "metadata": {
    "collapsed": false
   }
  },
  {
   "cell_type": "code",
   "execution_count": 7,
   "outputs": [
    {
     "data": {
      "text/plain": "[tensor([0.5365, 0.9195, 0.9389, 0.5280, 0.6323], device='cuda:0'),\n tensor([0.5566, 0.9316, 0.9663, 0.8775, 0.7440], device='cuda:0'),\n tensor([0.4252, 0.9062, 0.9660, 0.8351, 0.7568], device='cuda:0')]"
     },
     "execution_count": 7,
     "metadata": {},
     "output_type": "execute_result"
    }
   ],
   "source": [
    "all_wrong_scores"
   ],
   "metadata": {
    "collapsed": false
   }
  },
  {
   "cell_type": "code",
   "execution_count": 8,
   "outputs": [
    {
     "name": "stdout",
     "output_type": "stream",
     "text": [
      "tensor([0.7701, 0.8141, 0.9436, 0.8376, 0.9051], device='cuda:0')\n",
      "tensor([0.5365, 0.9195, 0.9389, 0.5280, 0.6323], device='cuda:0')\n",
      "tensor([ True, False,  True,  True,  True], device='cuda:0')\n",
      "------------------\n",
      "tensor([0.7798, 0.8654, 0.9675, 0.8664, 0.9494], device='cuda:0')\n",
      "tensor([0.5566, 0.9316, 0.9663, 0.8775, 0.7440], device='cuda:0')\n",
      "tensor([ True, False,  True, False,  True], device='cuda:0')\n",
      "------------------\n",
      "tensor([0.6332, 0.8804, 0.9663, 0.8820, 0.9761], device='cuda:0')\n",
      "tensor([0.4252, 0.9062, 0.9660, 0.8351, 0.7568], device='cuda:0')\n",
      "tensor([ True, False,  True,  True,  True], device='cuda:0')\n",
      "------------------\n"
     ]
    }
   ],
   "source": [
    "for score_1, score_2 in zip(all_parapharased_scores, all_wrong_scores):\n",
    "    print(score_1)\n",
    "    print(score_2)\n",
    "    print(score_1 > score_2)\n",
    "    print('------------------')"
   ],
   "metadata": {
    "collapsed": false
   }
  },
  {
   "cell_type": "code",
   "execution_count": 8,
   "outputs": [],
   "source": [],
   "metadata": {
    "collapsed": false
   }
  }
 ],
 "metadata": {
  "kernelspec": {
   "display_name": "Python 3",
   "language": "python",
   "name": "python3"
  },
  "language_info": {
   "codemirror_mode": {
    "name": "ipython",
    "version": 2
   },
   "file_extension": ".py",
   "mimetype": "text/x-python",
   "name": "python",
   "nbconvert_exporter": "python",
   "pygments_lexer": "ipython2",
   "version": "2.7.6"
  }
 },
 "nbformat": 4,
 "nbformat_minor": 0
}
